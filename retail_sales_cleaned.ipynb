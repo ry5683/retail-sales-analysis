{
 "cells": [
  {
   "cell_type": "code",
   "execution_count": 2,
   "id": "12afc3fe",
   "metadata": {},
   "outputs": [
    {
     "name": "stdout",
     "output_type": "stream",
     "text": [
      "Shape: (70000, 7)\n",
      "\n",
      "Head:\n",
      "    order_id  customer_id   price  quantity  order_date region    product\n",
      "0         1         4174  456.97         9  2022-08-01    NaN     Widget\n",
      "1         2         4507   58.03         9  2022-05-30    NaN     Widget\n",
      "2         3         1860  373.24         9  2022-03-11  South  Doohickey\n",
      "3         4         2294  291.78         2  2022-10-14  South     Widget\n",
      "4         5         2130  182.30         4  2022-05-14   EAST     Widget\n",
      "\n",
      "Info:\n",
      "\n",
      "<class 'pandas.core.frame.DataFrame'>\n",
      "RangeIndex: 70000 entries, 0 to 69999\n",
      "Data columns (total 7 columns):\n",
      " #   Column       Non-Null Count  Dtype  \n",
      "---  ------       --------------  -----  \n",
      " 0   order_id     70000 non-null  int64  \n",
      " 1   customer_id  70000 non-null  int64  \n",
      " 2   price        69300 non-null  float64\n",
      " 3   quantity     70000 non-null  int64  \n",
      " 4   order_date   70000 non-null  object \n",
      " 5   region       61553 non-null  object \n",
      " 6   product      70000 non-null  object \n",
      "dtypes: float64(1), int64(3), object(3)\n",
      "memory usage: 3.7+ MB\n",
      "\n",
      "Description:\n",
      "            order_id   customer_id         price      quantity\n",
      "count  70000.000000  70000.000000  69300.000000  70000.000000\n",
      "mean   35000.500000   3005.148700    252.330964      4.984014\n",
      "std    20207.403759   1153.326412    142.896208      2.580464\n",
      "min        1.000000   1000.000000      5.000000      1.000000\n",
      "25%    17500.750000   2007.000000    128.130000      3.000000\n",
      "50%    35000.500000   3003.000000    253.070000      5.000000\n",
      "75%    52500.250000   4005.000000    376.610000      7.000000\n",
      "max    70000.000000   4999.000000    500.000000      9.000000\n",
      "\n",
      "Missing values:\n",
      " order_id          0\n",
      "customer_id       0\n",
      "price           700\n",
      "quantity          0\n",
      "order_date        0\n",
      "region         8447\n",
      "product           0\n",
      "dtype: int64\n"
     ]
    }
   ],
   "source": [
    "import pandas as pd\n",
    "\n",
    "# Load the dataset\n",
    "df = pd.read_csv(\"retail_sales_dataset_simulated.csv\")\n",
    "\n",
    "# Basic Exploration\n",
    "print(\"Shape:\", df.shape)\n",
    "print(\"\\nHead:\\n\", df.head())\n",
    "print(\"\\nInfo:\\n\")\n",
    "df.info()\n",
    "print(\"\\nDescription:\\n\", df.describe())\n",
    "\n",
    "# Optional: check for nulls\n",
    "print(\"\\nMissing values:\\n\", df.isnull().sum())"
   ]
  },
  {
   "cell_type": "code",
   "execution_count": 3,
   "id": "6b7ad6fe",
   "metadata": {},
   "outputs": [
    {
     "name": "stdout",
     "output_type": "stream",
     "text": [
      "<class 'pandas.core.frame.DataFrame'>\n",
      "Index: 60930 entries, 2 to 69997\n",
      "Data columns (total 8 columns):\n",
      " #   Column       Non-Null Count  Dtype         \n",
      "---  ------       --------------  -----         \n",
      " 0   order_id     60930 non-null  int64         \n",
      " 1   customer_id  60930 non-null  int64         \n",
      " 2   price        60930 non-null  float64       \n",
      " 3   quantity     60930 non-null  int64         \n",
      " 4   order_date   60930 non-null  datetime64[ns]\n",
      " 5   region       60930 non-null  object        \n",
      " 6   product      60930 non-null  object        \n",
      " 7   total_sales  60930 non-null  float64       \n",
      "dtypes: datetime64[ns](1), float64(2), int64(3), object(2)\n",
      "memory usage: 4.2+ MB\n",
      "   order_id  customer_id   price  quantity order_date region    product  \\\n",
      "2         3         1860  373.24         9 2022-03-11  South  Doohickey   \n",
      "3         4         2294  291.78         2 2022-10-14  South     Widget   \n",
      "4         5         2130  182.30         4 2022-05-14   East     Widget   \n",
      "5         6         2095   44.18         9 2022-05-07   East  Doohickey   \n",
      "6         7         4772  304.34         7 2022-10-16   East  Doohickey   \n",
      "\n",
      "   total_sales  \n",
      "2      3359.16  \n",
      "3       583.56  \n",
      "4       729.20  \n",
      "5       397.62  \n",
      "6      2130.38  \n"
     ]
    }
   ],
   "source": [
    "# Drop rows where price is null\n",
    "df = df.dropna(subset=[\"price\"])\n",
    "\n",
    "# Standardize region\n",
    "df[\"region\"] = df[\"region\"].str.strip().str.title()\n",
    "\n",
    "# Drop remaining rows with missing region\n",
    "df = df.dropna(subset=[\"region\"])\n",
    "\n",
    "# Convert order_date to datetime\n",
    "df[\"order_date\"] = pd.to_datetime(df[\"order_date\"], errors=\"coerce\")\n",
    "\n",
    "# Create total_sales column\n",
    "df[\"total_sales\"] = df[\"price\"] * df[\"quantity\"]\n",
    "\n",
    "# Confirm changes\n",
    "df.info()\n",
    "print(df.head())"
   ]
  },
  {
   "cell_type": "code",
   "execution_count": 4,
   "id": "e44111b3",
   "metadata": {},
   "outputs": [],
   "source": [
    "# Drop rows with invalid dates\n",
    "df = df.dropna(subset=[\"order_date\"])\n",
    "\n",
    "# Create 'high_value_order' feature (you decide what counts as \"high value\")\n",
    "df[\"high_value_order\"] = df[\"total_sales\"] > 1000"
   ]
  },
  {
   "cell_type": "code",
   "execution_count": 5,
   "id": "cee42358",
   "metadata": {},
   "outputs": [
    {
     "data": {
      "image/png": "[encoded data removed]",
      "text/plain": [
       "<Figure size 1000x600 with 1 Axes>"
      ]
     },
     "metadata": {},
     "output_type": "display_data"
    }
   ],
   "source": [
    "import matplotlib.pyplot as plt\n",
    "\n",
    "# Group data\n",
    "region_sales = df.groupby(\"region\")[\"total_sales\"].sum().sort_values()\n",
    "\n",
    "# Plot\n",
    "plt.figure(figsize=(10,6))\n",
    "region_sales.plot(kind=\"bar\")\n",
    "plt.title(\"Total Sales by Region\")\n",
    "plt.ylabel(\"Sales ($)\")\n",
    "plt.xlabel(\"Region\")\n",
    "plt.xticks(rotation=45)\n",
    "plt.tight_layout()\n",
    "plt.show()"
   ]
  },
  {
   "cell_type": "code",
   "execution_count": 8,
   "id": "31648207",
   "metadata": {},
   "outputs": [
    {
     "data": {
      "application/vnd.microsoft.datawrangler.viewer.v0+json": {
       "columns": [
        {
         "name": "region",
         "rawType": "object",
         "type": "string"
        },
        {
         "name": "total_sales",
         "rawType": "float64",
         "type": "float"
        },
        {
         "name": "high_value_orders",
         "rawType": "int64",
         "type": "integer"
        },
        {
         "name": "order_count",
         "rawType": "int64",
         "type": "integer"
        },
        {
         "name": "percent_high_value",
         "rawType": "float64",
         "type": "float"
        }
       ],
       "ref": "a6ac5140-9fae-468a-a501-90d18607e3f6",
       "rows": [
        [
         "North",
         "19329816.22",
         "7482",
         "15349",
         "48.75"
        ],
        [
         "South",
         "19198757.54",
         "7386",
         "15275",
         "48.35"
        ],
        [
         "East",
         "19115618.39",
         "7396",
         "15186",
         "48.7"
        ],
        [
         "West",
         "19074919.56",
         "7300",
         "15120",
         "48.28"
        ]
       ],
       "shape": {
        "columns": 4,
        "rows": 4
       }
      },
      "text/html": [
       "<div>\n",
       "<style scoped>\n",
       "    .dataframe tbody tr th:only-of-type {\n",
       "        vertical-align: middle;\n",
       "    }\n",
       "\n",
       "    .dataframe tbody tr th {\n",
       "        vertical-align: top;\n",
       "    }\n",
       "\n",
       "    .dataframe thead th {\n",
       "        text-align: right;\n",
       "    }\n",
       "</style>\n",
       "<table border=\"1\" class=\"dataframe\">\n",
       "  <thead>\n",
       "    <tr style=\"text-align: right;\">\n",
       "      <th></th>\n",
       "      <th>total_sales</th>\n",
       "      <th>high_value_orders</th>\n",
       "      <th>order_count</th>\n",
       "      <th>percent_high_value</th>\n",
       "    </tr>\n",
       "    <tr>\n",
       "      <th>region</th>\n",
       "      <th></th>\n",
       "      <th></th>\n",
       "      <th></th>\n",
       "      <th></th>\n",
       "    </tr>\n",
       "  </thead>\n",
       "  <tbody>\n",
       "    <tr>\n",
       "      <th>North</th>\n",
       "      <td>19329816.22</td>\n",
       "      <td>7482</td>\n",
       "      <td>15349</td>\n",
       "      <td>48.75</td>\n",
       "    </tr>\n",
       "    <tr>\n",
       "      <th>South</th>\n",
       "      <td>19198757.54</td>\n",
       "      <td>7386</td>\n",
       "      <td>15275</td>\n",
       "      <td>48.35</td>\n",
       "    </tr>\n",
       "    <tr>\n",
       "      <th>East</th>\n",
       "      <td>19115618.39</td>\n",
       "      <td>7396</td>\n",
       "      <td>15186</td>\n",
       "      <td>48.70</td>\n",
       "    </tr>\n",
       "    <tr>\n",
       "      <th>West</th>\n",
       "      <td>19074919.56</td>\n",
       "      <td>7300</td>\n",
       "      <td>15120</td>\n",
       "      <td>48.28</td>\n",
       "    </tr>\n",
       "  </tbody>\n",
       "</table>\n",
       "</div>"
      ],
      "text/plain": [
       "        total_sales  high_value_orders  order_count  percent_high_value\n",
       "region                                                                 \n",
       "North   19329816.22               7482        15349               48.75\n",
       "South   19198757.54               7386        15275               48.35\n",
       "East    19115618.39               7396        15186               48.70\n",
       "West    19074919.56               7300        15120               48.28"
      ]
     },
     "execution_count": 8,
     "metadata": {},
     "output_type": "execute_result"
    }
   ],
   "source": [
    "summary = df.groupby(\"region\").agg(\n",
    "    total_sales=(\"total_sales\", \"sum\"),\n",
    "    high_value_orders=(\"high_value_order\", \"sum\"),\n",
    "    order_count=(\"order_id\", \"count\")\n",
    ")\n",
    "\n",
    "# Calculate percent high-value\n",
    "summary[\"percent_high_value\"] = (summary[\"high_value_orders\"] / summary[\"order_count\"]) * 100\n",
    "\n",
    "# Optional: sort by revenue\n",
    "summary = summary.sort_values(\"total_sales\", ascending=False)\n",
    "\n",
    "# Format as needed (rounding)\n",
    "summary = summary.round({\"total_sales\": 2, \"percent_high_value\": 2})\n",
    "\n",
    "summary"
   ]
  },
  {
   "cell_type": "code",
   "execution_count": null,
   "id": "f4c9fcb2",
   "metadata": {},
   "outputs": [],
   "source": []
  }
 ],
 "metadata": {
  "kernelspec": {
   "display_name": "Python 3",
   "language": "python",
   "name": "python3"
  },
  "language_info": {
   "codemirror_mode": {
    "name": "ipython",
    "version": 3
   },
   "file_extension": ".py",
   "mimetype": "text/x-python",
   "name": "python",
   "nbconvert_exporter": "python",
   "pygments_lexer": "ipython3",
   "version": "3.13.2"
  }
 },
 "nbformat": 4,
 "nbformat_minor": 5
}
